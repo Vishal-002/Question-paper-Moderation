{
 "cells": [
  {
   "cell_type": "code",
   "execution_count": 1,
   "id": "a97863ee",
   "metadata": {},
   "outputs": [
    {
     "name": "stdout",
     "output_type": "stream",
     "text": [
      "arr1: ['Define and explain Unified Modeling Language (UML)', 'Explain conceptual model of UML', 'Explain building blocks in UML.', 'Explain things and relationships in UML.', 'List and explain diagrams in UML.', 'Explain common mechanism in UML']\n",
      "arr2: ['Define and explain Unified Modeling Language (UML)', 'Explain conceptual model of UML', 'Explain building blocks in UML.', '.List and explain UML', '0 diagrams.', 'Explain object diagram in UML.']\n",
      "new_paper: ['Define and explain Unified Modeling Language (UML)', 'Explain conceptual model of UML', 'Explain building blocks in UML.', 'Explain common mechanism in UML', '.List and explain UML', '0 diagrams.', 'Explain object diagram in UML.']\n"
     ]
    }
   ],
   "source": [
    "import spacy\n",
    "from sklearn.metrics.pairwise import cosine_similarity\n",
    "\n",
    "# Load a pre-trained spaCy model\n",
    "nlp = spacy.load(\"en_core_web_sm\")\n",
    "\n",
    "# Function to calculate cosine similarity between two sentences\n",
    "def calculate_similarity(sentence1, sentence2):\n",
    "    doc1 = nlp(sentence1)\n",
    "    doc2 = nlp(sentence2)\n",
    "    vector1 = doc1.vector.reshape(1, -1)\n",
    "    vector2 = doc2.vector.reshape(1, -1)\n",
    "    return cosine_similarity(vector1, vector2)[0][0]\n",
    "\n",
    "question_paper1_text = \"1. Define and explain Unified Modeling Language (UML) 2. Explain conceptual model of UML 3. Explain building blocks in UML. 4. Explain things and relationships in UML. 5. List and explain diagrams in UML. 6. Explain common mechanism in UML\"\n",
    "\n",
    "question_paper2_text = \"1. Define and explain Unified Modeling Language (UML) 2. Explain conceptual model of UML 3. Explain building blocks in UML. 4. .List and explain UML2.0 diagrams. 5. Explain object diagram in UML.\"\n",
    "\n",
    "import re\n",
    "\n",
    "# Use regular expressions to split the text into individual questions\n",
    "arr1 = re.split(r'\\d+\\.', question_paper1_text)\n",
    "arr2 = re.split(r'\\d+\\.', question_paper2_text)\n",
    "\n",
    "# Remove any leading or trailing whitespace from the questions\n",
    "arr1 = [question.strip() for question in arr1 if question.strip()]\n",
    "arr2 = [question.strip() for question in arr2 if question.strip()]\n",
    "\n",
    "# Create an array to store the questions\n",
    "arr1 = arr1\n",
    "arr2 = arr2\n",
    "\n",
    "print(\"arr1:\", arr1)\n",
    "print(\"arr2:\", arr2)\n",
    "\n",
    "new_paper = []\n",
    "\n",
    "for q1 in arr1:\n",
    "    for q2 in arr2:\n",
    "        similarity = calculate_similarity(q1, q2)\n",
    "        if similarity > 0.8:\n",
    "            new_paper.append(q1)\n",
    "            break  # Break to avoid adding duplicates\n",
    "\n",
    "# Add questions from question_paper2 that didn't have matches\n",
    "for q2 in arr2:\n",
    "    if q2 not in new_paper:\n",
    "        new_paper.append(q2)\n",
    "\n",
    "# Print the new_paper array\n",
    "print(\"new_paper:\", new_paper)"
   ]
  },
  {
   "cell_type": "code",
   "execution_count": null,
   "id": "a9fa6ccc",
   "metadata": {},
   "outputs": [],
   "source": []
  }
 ],
 "metadata": {
  "kernelspec": {
   "display_name": "Python 3 (ipykernel)",
   "language": "python",
   "name": "python3"
  },
  "language_info": {
   "codemirror_mode": {
    "name": "ipython",
    "version": 3
   },
   "file_extension": ".py",
   "mimetype": "text/x-python",
   "name": "python",
   "nbconvert_exporter": "python",
   "pygments_lexer": "ipython3",
   "version": "3.10.9"
  }
 },
 "nbformat": 4,
 "nbformat_minor": 5
}
